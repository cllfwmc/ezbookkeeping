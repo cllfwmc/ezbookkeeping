{
 "cells": [
  {
   "cell_type": "code",
   "execution_count": 1,
   "metadata": {},
   "outputs": [],
   "source": [
    "from PIL import Image, ImageDraw, ImageFont"
   ]
  },
  {
   "cell_type": "code",
   "execution_count": 23,
   "metadata": {},
   "outputs": [],
   "source": [
    "# 设计规范表\n",
    "design_specs = [\n",
    "    # 分辨率               logo_scale  字号  text_gap  bottom_margin\n",
    "    {'resolution': ( 720, 1280), 'logo_scale': 0.46, 'text_size': 42, 'text_gap': 48, 'bottom_margin': 72},\n",
    "    {'resolution': (1080, 1920), 'logo_scale': 0.42, 'text_size': 48, 'text_gap': 56, 'bottom_margin': 96},\n",
    "    {'resolution': (1080, 2340), 'logo_scale': 0.40, 'text_size': 46, 'text_gap': 54, 'bottom_margin': 108},\n",
    "    {'resolution': (1080, 2400), 'logo_scale': 0.39, 'text_size': 45, 'text_gap': 52, 'bottom_margin': 110},\n",
    "    {'resolution': (1440, 2560), 'logo_scale': 0.36, 'text_size': 52, 'text_gap': 60, 'bottom_margin': 100},\n",
    "    {'resolution': (1440, 3040), 'logo_scale': 0.35, 'text_size': 50, 'text_gap': 58, 'bottom_margin': 120},\n",
    "    {'resolution': (1440, 3120), 'logo_scale': 0.34, 'text_size': 48, 'text_gap': 56, 'bottom_margin': 122},\n",
    "]\n",
    "\n",
    "design_specs1 = [\n",
    "    {'resolution': (720, 1280), 'logo_scale': 0.42, 'text_size': 50, 'logo_text_spacing': 50, 'vertical_offset': -0.08},\n",
    "    {'resolution': (1080, 1920), 'logo_scale': 0.38, 'text_size': 58, 'logo_text_spacing': 60, 'vertical_offset': -0.07},\n",
    "    {'resolution': (1080, 2340), 'logo_scale': 0.35, 'text_size': 56, 'logo_text_spacing': 65, 'vertical_offset': -0.06},\n",
    "    {'resolution': (1080, 2400), 'logo_scale': 0.33, 'text_size': 54, 'logo_text_spacing': 70, 'vertical_offset': -0.05},\n",
    "    {'resolution': (1440, 2560), 'logo_scale': 0.32, 'text_size': 62, 'logo_text_spacing': 75, 'vertical_offset': -0.04},\n",
    "    {'resolution': (1440, 3040), 'logo_scale': 0.30, 'text_size': 60, 'logo_text_spacing': 80, 'vertical_offset': -0.03},\n",
    "    {'resolution': (1440, 3120), 'logo_scale': 0.29, 'text_size': 58, 'logo_text_spacing': 85, 'vertical_offset': -0.02},\n",
    "]"
   ]
  },
  {
   "cell_type": "code",
   "execution_count": 26,
   "metadata": {},
   "outputs": [],
   "source": [
    "\n",
    "def create_splash_screen(spec):\n",
    "    # 打开logo\n",
    "    logo = Image.open(\"./resources/ezbookkeeping-512.png\")\n",
    "    width, height = spec['resolution']\n",
    "    new_logo_size = int(512 * spec['logo_scale'])\n",
    "    \n",
    "    # 调整logo大小\n",
    "    logo = logo.resize((new_logo_size, new_logo_size))\n",
    "    \n",
    "    # 创建背景\n",
    "    img = Image.new('RGB', spec['resolution'], color='white')\n",
    "    \n",
    "    # 计算logo位置（居中）\n",
    "    logo_x = (width - new_logo_size) // 2\n",
    "    logo_y = (height - new_logo_size) // 2\n",
    "    \n",
    "    # 粘贴logo\n",
    "    img.paste(logo, (logo_x, logo_y), logo if logo.mode in ('RGBA', 'LA') else None)\n",
    "    \n",
    "    # 添加文字\n",
    "    draw = ImageDraw.Draw(img)\n",
    "    font = ImageFont.truetype(\"E:/学术/杂/msyh.ttf\", spec['text_size'])  # 替换为你的字体路径\n",
    "    text = \"ezBookkeeping\"\n",
    "    text_width, text_height = draw.textsize(text, font=font)\n",
    "    text_x = (width - text_width) / 2\n",
    "    text_y = height - spec['bottom_margin'] - text_height\n",
    "    \n",
    "    # 在底部绘制文字\n",
    "    draw.text((text_x, text_y), text, font=font, fill=\"black\")\n",
    "    \n",
    "    # 保存结果\n",
    "    output_filename = f\"./resources/splash_{width}x{height}.png\"\n",
    "    img.save(output_filename)\n",
    "    print(f\"Saved {output_filename}\")\n",
    "\n",
    "def create_splash_screen_new(spec):\n",
    "    # 打开logo\n",
    "    logo = Image.open(\"./resources/ezbookkeeping-512.png\")\n",
    "    width, height = spec['resolution']\n",
    "    new_logo_size = int(512 * spec['logo_scale'])\n",
    "    \n",
    "    # 调整logo大小\n",
    "    logo = logo.resize((new_logo_size, new_logo_size), Image.LANCZOS)\n",
    "    \n",
    "    # 创建背景\n",
    "    img = Image.new('RGB', spec['resolution'], color='white')\n",
    "    draw = ImageDraw.Draw(img)\n",
    "    \n",
    "    # 加载字体\n",
    "    font = ImageFont.truetype(\"E:/学术/杂/msyh.ttf\", spec['text_size'])\n",
    "    text = \"ezBookkeeping\"\n",
    "    \n",
    "    # 获取精确的文本尺寸\n",
    "    bbox = font.getbbox(text)\n",
    "    text_width = bbox[2] - bbox[0]\n",
    "    text_height = bbox[3] - bbox[1]\n",
    "    \n",
    "    # 计算整体内容高度\n",
    "    total_height = new_logo_size + spec['logo_text_spacing'] + text_height\n",
    "    \n",
    "    # 计算垂直起始位置（整体居中 + 垂直偏移）\n",
    "    vertical_offset = int(height * spec['vertical_offset'])\n",
    "    start_y = (height - total_height) // 2 + vertical_offset\n",
    "    \n",
    "    # 设置logo位置（水平居中）\n",
    "    logo_x = (width - new_logo_size) // 2\n",
    "    logo_y = start_y\n",
    "    \n",
    "    # 设置文字位置\n",
    "    text_x = (width - text_width) // 2\n",
    "    text_y = logo_y + new_logo_size + spec['logo_text_spacing']\n",
    "    \n",
    "    # 粘贴logo\n",
    "    img.paste(logo, (logo_x, logo_y), logo if logo.mode in ('RGBA', 'LA') else None)\n",
    "    \n",
    "    # 绘制文字\n",
    "    draw.text((text_x, text_y), text, font=font, fill=\"black\")\n",
    "    \n",
    "    # 保存结果\n",
    "    output_filename = f\"./resources/splash_{width}x{height}.png\"\n",
    "    img.save(output_filename)"
   ]
  },
  {
   "cell_type": "code",
   "execution_count": 25,
   "metadata": {},
   "outputs": [
    {
     "name": "stderr",
     "output_type": "stream",
     "text": [
      "C:\\Users\\wmc18\\AppData\\Local\\Temp\\ipykernel_30292\\78063333.py:43: DeprecationWarning: LANCZOS is deprecated and will be removed in Pillow 10 (2023-07-01). Use Resampling.LANCZOS instead.\n",
      "  logo = logo.resize((new_logo_size, new_logo_size), Image.LANCZOS)\n"
     ]
    }
   ],
   "source": [
    "for spec in design_specs:\n",
    "    create_splash_screen_new(spec)"
   ]
  }
 ],
 "metadata": {
  "kernelspec": {
   "display_name": "Pytorch",
   "language": "python",
   "name": "python3"
  },
  "language_info": {
   "codemirror_mode": {
    "name": "ipython",
    "version": 3
   },
   "file_extension": ".py",
   "mimetype": "text/x-python",
   "name": "python",
   "nbconvert_exporter": "python",
   "pygments_lexer": "ipython3",
   "version": "3.9.13"
  },
  "orig_nbformat": 4,
  "vscode": {
   "interpreter": {
    "hash": "49418117e3467ad040f328a538709f0a31be17b9d7cca48f864682de9e3fed76"
   }
  }
 },
 "nbformat": 4,
 "nbformat_minor": 2
}
